{
 "cells": [
  {
   "cell_type": "markdown",
   "id": "f0c717fe-f8a1-42d4-a319-d8f6e7290db4",
   "metadata": {},
   "source": [
    "This notebook generates Movie Title and Description based on User Entered Genres using Llama3.2 model"
   ]
  },
  {
   "cell_type": "markdown",
   "id": "f26abe6c-e408-42ff-8c35-dc774070608d",
   "metadata": {},
   "source": [
    "Importing Libraries"
   ]
  },
  {
   "cell_type": "code",
   "execution_count": 5,
   "id": "4b6d0166-9a06-4800-afea-aac61d70cd3e",
   "metadata": {},
   "outputs": [],
   "source": [
    "import ollama"
   ]
  },
  {
   "cell_type": "markdown",
   "id": "ef959f41-a9de-4ed8-b390-5541e6039714",
   "metadata": {},
   "source": [
    "Method to Generate Movie Title and Description Based on input genre"
   ]
  },
  {
   "cell_type": "code",
   "execution_count": 6,
   "id": "982401d7-37eb-4820-95b3-fa1f63efde8c",
   "metadata": {},
   "outputs": [],
   "source": [
    "def generate_movie_title_and_description(genre, model='llama3.2'):\n",
    "    prompt = (\n",
    "        f\"Create a *creative* and *original* title and a short plot for a movie \"\n",
    "        f\"that belongs to the genres: {genre}. \"\n",
    "        f\"Respond in the following format:\\n\\n\"\n",
    "        f\"Title: <your title>\\nPlot: <your short plot>\"\n",
    "    )\n",
    "    response = ollama.chat(\n",
    "        model=model,\n",
    "        messages=[{\"role\": \"user\", \"content\": prompt}]\n",
    "    )\n",
    "    \n",
    "    return response['message']['content']"
   ]
  },
  {
   "cell_type": "code",
   "execution_count": 7,
   "id": "611572a3-0328-4003-8cb4-4969e38a2122",
   "metadata": {},
   "outputs": [],
   "source": [
    "def run_movie_idea_tool():\n",
    "    genres_input = input(\"Enter movie genres: \")\n",
    "    print(\"Generating movie title and description\\n\")\n",
    "    result = generate_movie_title_and_description(genres_input)\n",
    "    print(result)"
   ]
  },
  {
   "cell_type": "code",
   "execution_count": 8,
   "id": "096db30c-b44b-4402-8f84-87b72e80aee2",
   "metadata": {},
   "outputs": [
    {
     "name": "stdin",
     "output_type": "stream",
     "text": [
      "🎞️ Enter movie genres (e.g., Action, Drama, Fantasy):  Action\n"
     ]
    },
    {
     "name": "stdout",
     "output_type": "stream",
     "text": [
      "\n",
      "🎬 Generating movie title and description...\n",
      "\n",
      "Title: \"Echoes of Eternity\"\n",
      "\n",
      "Plot: In a world where time is currency, and the rich can live forever, a group of rebels must use their unique abilities to unravel the mystery behind a powerful artifact that can manipulate the fabric of time itself. The protagonist, a former assassin turned rogue agent, is hunted by an elite force known as \"The Timekeepers\" who will stop at nothing to possess the artifact and maintain their grip on society. As our hero navigates through a complex web of temporal manipulation, they must confront their own troubled past and team up with unlikely allies to prevent a catastrophic future where time itself becomes a deadly game.\n"
     ]
    }
   ],
   "source": [
    "run_movie_idea_tool()"
   ]
  }
 ],
 "metadata": {
  "kernelspec": {
   "display_name": "Python 3 (ipykernel)",
   "language": "python",
   "name": "python3"
  },
  "language_info": {
   "codemirror_mode": {
    "name": "ipython",
    "version": 3
   },
   "file_extension": ".py",
   "mimetype": "text/x-python",
   "name": "python",
   "nbconvert_exporter": "python",
   "pygments_lexer": "ipython3",
   "version": "3.11.12"
  }
 },
 "nbformat": 4,
 "nbformat_minor": 5
}
